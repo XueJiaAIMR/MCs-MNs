{
 "cells": [
  {
   "cell_type": "code",
   "execution_count": 3,
   "id": "91336f49-d743-4114-98de-2ee6da18d3e8",
   "metadata": {},
   "outputs": [],
   "source": [
    "#from pymatgen.ext.matproj import MPRester\n",
    "from mp_api.client import MPRester\n",
    "from mp_api.client import routes\n",
    "#.client.routes.materials.summary\n",
    "#mp_api.client.mprester\n",
    "#mp_api.client.routes\n",
    "#mp_api.client.mprester.MPRester\n",
    "m = MPRester(\"37uU4HcWpizNmWLLvHeb0DNZOaY1oypp\")\n",
    "\n",
    "from tqdm.autonotebook import tqdm\n",
    "import numpy as np\n",
    "import pandas as pd\n",
    "import pymatgen.analysis.phase_diagram as phase_diagram\n",
    "import pymatgen.analysis.pourbaix_diagram as pbx\n",
    "from pymatgen.core import Composition\n",
    "from pymatgen.entries.computed_entries import ComputedStructureEntry\n",
    "#from pymatgen.ext.matproj import MPRester\n",
    "#m = MPRester(\"3dnw2ydc8xpTaFbbahx\")\n",
    "import time\n",
    "from pymatgen.analysis.pourbaix_diagram import PourbaixDiagram,ELEMENTS_HO, PourbaixPlotter\n",
    "from matminer.featurizers.conversions import StrToComposition"
   ]
  },
  {
   "cell_type": "markdown",
   "id": "8e0ea25a-0143-46ab-8617-c76dc664d8ed",
   "metadata": {},
   "source": [
    "Inclusion of C or N"
   ]
  },
  {
   "cell_type": "code",
   "execution_count": 37,
   "id": "c4e8f5c3-52af-49bd-b143-f210fa07cd2a",
   "metadata": {},
   "outputs": [
    {
     "data": {
      "application/vnd.jupyter.widget-view+json": {
       "model_id": "50054fef992b4f4288260e524f5b9e3d",
       "version_major": 2,
       "version_minor": 0
      },
      "text/plain": [
       "Retrieving SummaryDoc documents:   0%|          | 0/8807 [00:00<?, ?it/s]"
      ]
     },
     "metadata": {},
     "output_type": "display_data"
    }
   ],
   "source": [
    "elements = [\"C\"]\n",
    "properties = ['material_id','nsites', 'elements', 'nelements', 'composition', 'composition_reduced', 'formula_pretty', \n",
    "                 'chemsys', 'volume', 'density', 'density_atomic', 'symmetry', 'property_name', 'last_updated', 'origins', 'structure', 'task_ids', \n",
    "                  'uncorrected_energy_per_atom', 'spacegroup_number',' spacegroup_symbol','structure',\n",
    "                  'energy_per_atom', 'formation_energy_per_atom', 'energy_above_hull', 'is_stable', 'equilibrium_reaction_energy_per_atom', \n",
    "                  'decomposes_to', 'band_gap', 'cbm', 'vbm', 'efermi', 'is_gap_direct', 'is_metal']\n",
    "\n",
    "    # Search for summaries matching the criteria and properties\n",
    "summaries = m.materials.summary.search(elements=elements, num_elements=[2,6], fields=properties)"
   ]
  },
  {
   "cell_type": "code",
   "execution_count": null,
   "id": "5402b1ea-964d-452c-95c5-5ad19a693990",
   "metadata": {
    "scrolled": true
   },
   "outputs": [],
   "source": [
    "dfs = []\n",
    "for summary in summaries:\n",
    "    summary_reindex = pd.DataFrame(summary).set_index(0).T\n",
    "    dfs.append(summary_reindex)\n",
    "\n",
    "# 一次性合并所有数据框\n",
    "data = pd.concat(dfs, axis=0, ignore_index=True)\n",
    "data.head()"
   ]
  },
  {
   "cell_type": "markdown",
   "id": "3811ae76-35dc-44d8-83ab-76549bc9c88b",
   "metadata": {},
   "source": [
    "Exclusion of toxic and radioactive elements"
   ]
  },
  {
   "cell_type": "code",
   "execution_count": 44,
   "id": "e27746e5-e61c-46f9-870f-9f294e0088c2",
   "metadata": {},
   "outputs": [],
   "source": [
    "excluded_elements = [\"Ac\", \"Th\", \"Pa\", \"U\", \"Np\", \"Pu\", \"Am\", \"Cm\", \"Bk\", \n",
    "                        \"Cf\", \"Es\", \"Fm\", \"Md\", \"No\", \"Lr\", \"As\", \"Pm\", \"Rf\", \n",
    "                        \"Db\", \"Sg\", \"Tc\", \"Bh\", \"Hs\", \"Mt\", \"Ds\", \"Rg\", \"Cn\", \n",
    "                        \"Nh\", \"Fl\", \"Mc\", \"Lv\", \"Ts\", \"Og\", \"Po\", \"At\", \"Rn\", \n",
    "                        \"S\", \"F\", \"Br\", \"At\", \"H\", \"O\", \"He\", \"Ne\", \"Ar\", \"Kr\", \n",
    "                        \"Xe\", \"Tc\", \"Si\", \"Fr\", \"Ra\", \"Se\", \"P\", \"B\", \"At\", \"Rn\",\n",
    "                        \"Cl\", \"At\", \"He\", \"Ne\", \"Ar\", \"Kr\", \"Xe\", \"Tc\", \"Tl\", \"As\", \"Te\", \"Si\", \"N\", \"I\", \"Pt\", \n",
    "                        \"Au\", \"Ag\", \"Pd\", \"Rh\", \"Ir\", \"Os\", \"Ru\"]#\"La\", \"Ce\", \"Pr\", \"Nd\", \"Pm\", \"Sm\", \"Eu\", \"Gd\", \"Tb\", \"Dy\", \"Ho\",    \"Er\", \"Tm\", \"Yb\", \"Lu\","
   ]
  },
  {
   "cell_type": "code",
   "execution_count": null,
   "id": "110d43b6-daa9-466f-af84-f03ce0cfa54b",
   "metadata": {},
   "outputs": [],
   "source": [
    "coms =data['elements']\n",
    "converted_data = [[str(element) for element in elements] for elements in coms]\n",
    "rows_to_drop = []\n",
    "\n",
    "for i in range(len(converted_data)):\n",
    "    converted_i = converted_data[i]\n",
    "    for element in excluded_elements:\n",
    "        if element in converted_i:\n",
    "            rows_to_drop.append(i)\n",
    "            break  # 一旦找到匹配项，停止检查其他元素并标记该行\n",
    "\n",
    "data_C = data.drop(index=rows_to_drop)\n",
    "data_C = data_C.reset_index(drop = True)"
   ]
  },
  {
   "cell_type": "code",
   "execution_count": 36,
   "id": "a0841d53-1b15-455a-8e92-1d2a59d33907",
   "metadata": {},
   "outputs": [],
   "source": [
    "data_C.to_excel('F:/work in tohoku/g_Grant/KAKEHHI-2024/data-N.xlsx')"
   ]
  },
  {
   "cell_type": "markdown",
   "id": "19a9897f-b635-47f2-9fb9-2732df34614e",
   "metadata": {},
   "source": [
    "energy-above-hull of 0 "
   ]
  },
  {
   "cell_type": "code",
   "execution_count": null,
   "id": "19b516c7-68d3-48f3-b32a-807d1cf076ce",
   "metadata": {},
   "outputs": [],
   "source": [
    "data_ehull_0 = data_C.loc[data[\"energy_above_hull\"]==0]\n",
    "data_ehull_0 = data_ehull_0.reset_index(drop=True)\n",
    "print(data_ehull_0.shape)\n",
    "data_ehull_0.head()"
   ]
  },
  {
   "cell_type": "markdown",
   "id": "e6c03d43-c63e-403e-88a6-7fc8bd6fefb1",
   "metadata": {},
   "source": [
    "get formation energy"
   ]
  },
  {
   "cell_type": "code",
   "execution_count": null,
   "id": "bdb62958-b56c-46d4-9512-0016c17a0cc7",
   "metadata": {},
   "outputs": [],
   "source": [
    "forma_ehull = []\n",
    "data_success = []\n",
    "data_error = []\n",
    "\n",
    "for m_id in range(0,len(data_Ehull_pd)):#len(data_pd)\n",
    "    print(m_id)\n",
    "    data_m_id = data_Ehull_pd.iloc[m_id]\n",
    "    material_id = data_m_id['material_id']\n",
    "    try:\n",
    "        thermo_docs = m.materials.thermo.search(material_ids=[material_id],fields=[\"formation_energy_per_atom\", \"energy_above_hull\"])\n",
    "        E_for_ene = list(thermo_docs[0])[0][1]\n",
    "        E_hull = list(thermo_docs[0])[1][1]\n",
    "        forma_ehull.append([E_for_ene,E_hull])\n",
    "        data_success.append(data_m_id)\n",
    "    except:\n",
    "        data_error.append(data_m_id)\n"
   ]
  },
  {
   "cell_type": "code",
   "execution_count": null,
   "id": "bebc1ec8-499f-4bf9-9c69-3b4b0c6d4a4c",
   "metadata": {},
   "outputs": [],
   "source": [
    "pd.DataFrame(forma_ehull)"
   ]
  },
  {
   "cell_type": "markdown",
   "id": "4cb693ea-41d7-4cce-b987-fcb89e0f0d0a",
   "metadata": {},
   "source": [
    "get materials with lowest formation energy"
   ]
  },
  {
   "cell_type": "code",
   "execution_count": null,
   "id": "8d2c72b0-1a55-492b-b6cf-35989773b0bd",
   "metadata": {},
   "outputs": [],
   "source": [
    "from matminer.featurizers.conversions import StrToComposition\n",
    "data_pd_str = StrToComposition().featurize_dataframe(data_foration_pd, \"pretty_formula\",ignore_errors=True)"
   ]
  },
  {
   "cell_type": "code",
   "execution_count": null,
   "id": "3886be4c-7643-412d-926b-97a201ed5d0b",
   "metadata": {},
   "outputs": [],
   "source": [
    "ele = []\n",
    "compound_pd = data_pd_str['composition']\n",
    "compound_np = np.array(compound_pd)\n",
    "for i in range(0,len(compound_np)):\n",
    "    print(i)\n",
    "    compound_i = compound_np[i]\n",
    "    compound_i_list = list(compound_i)\n",
    "    elements = []\n",
    "    ele_num  = len(compound_i_list)\n",
    "    for j in range(ele_num):\n",
    "        #element_list = compound_i_list[j]\n",
    "        element_j = str(compound_i_list[j])\n",
    "        elements.append(element_j)\n",
    "    ele.append(elements)"
   ]
  },
  {
   "cell_type": "code",
   "execution_count": null,
   "id": "882ff769-c3f9-486e-8af3-5487e3782b33",
   "metadata": {},
   "outputs": [],
   "source": [
    "duplicate_all = []\n",
    "duplicate_stable = []\n",
    "for i in range(0,len(ele)):\n",
    "    print(i)\n",
    "    if i in duplicate_all:\n",
    "        a=1\n",
    "    else:\n",
    "        duplicate_i = []\n",
    "        com_1 = ele[i]\n",
    "        for j in range(i+1, len(ele)):\n",
    "            com_2 = ele[j]\n",
    "            if com_1 == com_2:\n",
    "                duplicate_i.append(i)\n",
    "                duplicate_i.append(j)\n",
    "            else:\n",
    "                j = j+1\n",
    "        \n",
    "        duplicate_all.extend(duplicate_i)\n",
    "\n",
    "        if duplicate_i == None:\n",
    "            print(stable)\n",
    "        else:\n",
    "            formation_i = data_foration_pd.iloc[duplicate_i]\n",
    "            formation_same = formation_i['formation_energy_per_atom']\n",
    "            for_argmax = formation_same[formation_same == formation_same.min()].index\n",
    "            duplicate_stable.extend(for_argmax)"
   ]
  },
  {
   "cell_type": "code",
   "execution_count": null,
   "id": "392f56e5-b3fc-434d-92ea-2c557fdbb3e9",
   "metadata": {},
   "outputs": [],
   "source": [
    "stable_ubstable_all = data_foration_pd.iloc[duplicate_all]\n",
    "df_without_duplicates = stable_ubstable_all.drop_duplicates()\n",
    "stable = data_foration_pd.iloc[duplicate_stable]\n",
    "diff=pd.concat([df_without_duplicates,stable,stable]).drop_duplicates(keep=False)\n",
    "crystal_structure = pd.concat([data_foration_pd,diff,diff]).drop_duplicates(keep=False)"
   ]
  }
 ],
 "metadata": {
  "kernelspec": {
   "display_name": "Python 3 (ipykernel)",
   "language": "python",
   "name": "python3"
  },
  "language_info": {
   "codemirror_mode": {
    "name": "ipython",
    "version": 3
   },
   "file_extension": ".py",
   "mimetype": "text/x-python",
   "name": "python",
   "nbconvert_exporter": "python",
   "pygments_lexer": "ipython3",
   "version": "3.11.7"
  }
 },
 "nbformat": 4,
 "nbformat_minor": 5
}
